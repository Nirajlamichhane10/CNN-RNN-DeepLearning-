{
  "nbformat": 4,
  "nbformat_minor": 0,
  "metadata": {
    "colab": {
      "provenance": []
    },
    "kernelspec": {
      "name": "python3",
      "display_name": "Python 3"
    },
    "language_info": {
      "name": "python"
    }
  },
  "cells": [
    {
      "cell_type": "markdown",
      "source": [
        "# Name : Saugat Karki\n",
        "# Group Leader: Niraj Lamichhane\n",
        "# Team members : Saugat Karki , Niraj Lamichhane, Rojan Shrestha , Aayush Niroula"
      ],
      "metadata": {
        "id": "u3ft0YzkOEK0"
      }
    },
    {
      "cell_type": "code",
      "execution_count": 31,
      "metadata": {
        "colab": {
          "base_uri": "https://localhost:8080/"
        },
        "id": "SHVSPcI1HEDs",
        "outputId": "b6c5b844-8a7a-461b-89a4-53a2422bd01d"
      },
      "outputs": [
        {
          "output_type": "stream",
          "name": "stdout",
          "text": [
            "Drive already mounted at /content/drive; to attempt to forcibly remount, call drive.mount(\"/content/drive\", force_remount=True).\n"
          ]
        }
      ],
      "source": [
        "from google.colab import drive\n",
        "drive.mount('/content/drive')"
      ]
    },
    {
      "cell_type": "code",
      "source": [
        "import pandas as pd\n",
        "import re\n",
        "from sklearn.model_selection import train_test_split\n",
        "from keras.preprocessing.text import Tokenizer\n",
        "from tensorflow.keras.preprocessing.sequence import pad_sequences\n",
        "from keras.models import Sequential\n",
        "from keras.layers import Embedding, LSTM, Dense\n",
        "from keras.callbacks import EarlyStopping\n",
        "import matplotlib.pyplot as plt\n",
        "import tensorflow as tf\n",
        "from sklearn.metrics import confusion_matrix, f1_score, roc_curve, auc"
      ],
      "metadata": {
        "id": "ndJjto7TH3aQ"
      },
      "execution_count": 32,
      "outputs": []
    },
    {
      "cell_type": "markdown",
      "source": [
        "# Data Understanding, Analysis, and Cleaning[5]: Understand what is data about, Perform a basic data cleaning:"
      ],
      "metadata": {
        "id": "vgZCccxdQbNt"
      }
    },
    {
      "cell_type": "code",
      "source": [
        "# load the dataset\n",
        "data_path=\"/content/drive/MyDrive/Amazon Book Review/kindle_review.csv\"\n",
        "df = pd.read_csv(data_path)"
      ],
      "metadata": {
        "id": "2aTIeoDtH8Wn"
      },
      "execution_count": 33,
      "outputs": []
    },
    {
      "cell_type": "code",
      "source": [
        "# print the first five rows of the dataset\n",
        "print(df.head())"
      ],
      "metadata": {
        "colab": {
          "base_uri": "https://localhost:8080/"
        },
        "id": "WgrpN4Z2IDHd",
        "outputId": "a651e9ad-1677-4146-f24e-7748530f7121"
      },
      "execution_count": 34,
      "outputs": [
        {
          "output_type": "stream",
          "name": "stdout",
          "text": [
            "   Unnamed: 0  rating                                         reviewText  \\\n",
            "0           0       5  This book was the very first bookmobile book I...   \n",
            "1           1       1  When I read the description for this book, I c...   \n",
            "2           2       5  I just had to edit this review. This book is a...   \n",
            "3           3       5  I don't normally buy 'mystery' novels because ...   \n",
            "4           4       5  This isn't the kind of book I normally read, a...   \n",
            "\n",
            "                           summary  \n",
            "0                50 + years ago...  \n",
            "1          Boring! Boring! Boring!  \n",
            "2  Wiggleliscious/new toy ready/!!  \n",
            "3                  Very good read.  \n",
            "4                     Great Story!  \n"
          ]
        }
      ]
    },
    {
      "cell_type": "code",
      "source": [
        "df.isnull().any()"
      ],
      "metadata": {
        "colab": {
          "base_uri": "https://localhost:8080/"
        },
        "id": "VrZnRNGR7qpo",
        "outputId": "385b22e9-664d-49f5-c540-8ab4fc1c438d"
      },
      "execution_count": 35,
      "outputs": [
        {
          "output_type": "execute_result",
          "data": {
            "text/plain": [
              "Unnamed: 0    False\n",
              "rating        False\n",
              "reviewText    False\n",
              "summary       False\n",
              "dtype: bool"
            ]
          },
          "metadata": {},
          "execution_count": 35
        }
      ]
    },
    {
      "cell_type": "code",
      "source": [
        "# perform basic cleaning tasks\n",
        "df = df[['reviewText', 'rating']]\n",
        "df = df.dropna()\n",
        "df = df[df['rating'] != 3]\n",
        "df['sentiment'] = df['rating'].apply(lambda x: 1 if x > 3 else 0)\n",
        "df = df.drop(columns=['rating'])\n"
      ],
      "metadata": {
        "id": "w-4GChLZJh-3",
        "colab": {
          "base_uri": "https://localhost:8080/",
          "height": 206
        },
        "outputId": "83a1ef76-bc8a-43a6-ec80-c5ce5b07ebf4"
      },
      "execution_count": 36,
      "outputs": [
        {
          "output_type": "execute_result",
          "data": {
            "text/plain": [
              "                                          reviewText  rating\n",
              "0  This book was the very first bookmobile book I...       5\n",
              "1  When I read the description for this book, I c...       1\n",
              "2  I just had to edit this review. This book is a...       5\n",
              "3  I don't normally buy 'mystery' novels because ...       5\n",
              "4  This isn't the kind of book I normally read, a...       5"
            ],
            "text/html": [
              "\n",
              "  <div id=\"df-4a1f59c9-a5fd-4201-a396-bacec9e1dd63\">\n",
              "    <div class=\"colab-df-container\">\n",
              "      <div>\n",
              "<style scoped>\n",
              "    .dataframe tbody tr th:only-of-type {\n",
              "        vertical-align: middle;\n",
              "    }\n",
              "\n",
              "    .dataframe tbody tr th {\n",
              "        vertical-align: top;\n",
              "    }\n",
              "\n",
              "    .dataframe thead th {\n",
              "        text-align: right;\n",
              "    }\n",
              "</style>\n",
              "<table border=\"1\" class=\"dataframe\">\n",
              "  <thead>\n",
              "    <tr style=\"text-align: right;\">\n",
              "      <th></th>\n",
              "      <th>reviewText</th>\n",
              "      <th>rating</th>\n",
              "    </tr>\n",
              "  </thead>\n",
              "  <tbody>\n",
              "    <tr>\n",
              "      <th>0</th>\n",
              "      <td>This book was the very first bookmobile book I...</td>\n",
              "      <td>5</td>\n",
              "    </tr>\n",
              "    <tr>\n",
              "      <th>1</th>\n",
              "      <td>When I read the description for this book, I c...</td>\n",
              "      <td>1</td>\n",
              "    </tr>\n",
              "    <tr>\n",
              "      <th>2</th>\n",
              "      <td>I just had to edit this review. This book is a...</td>\n",
              "      <td>5</td>\n",
              "    </tr>\n",
              "    <tr>\n",
              "      <th>3</th>\n",
              "      <td>I don't normally buy 'mystery' novels because ...</td>\n",
              "      <td>5</td>\n",
              "    </tr>\n",
              "    <tr>\n",
              "      <th>4</th>\n",
              "      <td>This isn't the kind of book I normally read, a...</td>\n",
              "      <td>5</td>\n",
              "    </tr>\n",
              "  </tbody>\n",
              "</table>\n",
              "</div>\n",
              "      <button class=\"colab-df-convert\" onclick=\"convertToInteractive('df-4a1f59c9-a5fd-4201-a396-bacec9e1dd63')\"\n",
              "              title=\"Convert this dataframe to an interactive table.\"\n",
              "              style=\"display:none;\">\n",
              "        \n",
              "  <svg xmlns=\"http://www.w3.org/2000/svg\" height=\"24px\"viewBox=\"0 0 24 24\"\n",
              "       width=\"24px\">\n",
              "    <path d=\"M0 0h24v24H0V0z\" fill=\"none\"/>\n",
              "    <path d=\"M18.56 5.44l.94 2.06.94-2.06 2.06-.94-2.06-.94-.94-2.06-.94 2.06-2.06.94zm-11 1L8.5 8.5l.94-2.06 2.06-.94-2.06-.94L8.5 2.5l-.94 2.06-2.06.94zm10 10l.94 2.06.94-2.06 2.06-.94-2.06-.94-.94-2.06-.94 2.06-2.06.94z\"/><path d=\"M17.41 7.96l-1.37-1.37c-.4-.4-.92-.59-1.43-.59-.52 0-1.04.2-1.43.59L10.3 9.45l-7.72 7.72c-.78.78-.78 2.05 0 2.83L4 21.41c.39.39.9.59 1.41.59.51 0 1.02-.2 1.41-.59l7.78-7.78 2.81-2.81c.8-.78.8-2.07 0-2.86zM5.41 20L4 18.59l7.72-7.72 1.47 1.35L5.41 20z\"/>\n",
              "  </svg>\n",
              "      </button>\n",
              "      \n",
              "  <style>\n",
              "    .colab-df-container {\n",
              "      display:flex;\n",
              "      flex-wrap:wrap;\n",
              "      gap: 12px;\n",
              "    }\n",
              "\n",
              "    .colab-df-convert {\n",
              "      background-color: #E8F0FE;\n",
              "      border: none;\n",
              "      border-radius: 50%;\n",
              "      cursor: pointer;\n",
              "      display: none;\n",
              "      fill: #1967D2;\n",
              "      height: 32px;\n",
              "      padding: 0 0 0 0;\n",
              "      width: 32px;\n",
              "    }\n",
              "\n",
              "    .colab-df-convert:hover {\n",
              "      background-color: #E2EBFA;\n",
              "      box-shadow: 0px 1px 2px rgba(60, 64, 67, 0.3), 0px 1px 3px 1px rgba(60, 64, 67, 0.15);\n",
              "      fill: #174EA6;\n",
              "    }\n",
              "\n",
              "    [theme=dark] .colab-df-convert {\n",
              "      background-color: #3B4455;\n",
              "      fill: #D2E3FC;\n",
              "    }\n",
              "\n",
              "    [theme=dark] .colab-df-convert:hover {\n",
              "      background-color: #434B5C;\n",
              "      box-shadow: 0px 1px 3px 1px rgba(0, 0, 0, 0.15);\n",
              "      filter: drop-shadow(0px 1px 2px rgba(0, 0, 0, 0.3));\n",
              "      fill: #FFFFFF;\n",
              "    }\n",
              "  </style>\n",
              "\n",
              "      <script>\n",
              "        const buttonEl =\n",
              "          document.querySelector('#df-4a1f59c9-a5fd-4201-a396-bacec9e1dd63 button.colab-df-convert');\n",
              "        buttonEl.style.display =\n",
              "          google.colab.kernel.accessAllowed ? 'block' : 'none';\n",
              "\n",
              "        async function convertToInteractive(key) {\n",
              "          const element = document.querySelector('#df-4a1f59c9-a5fd-4201-a396-bacec9e1dd63');\n",
              "          const dataTable =\n",
              "            await google.colab.kernel.invokeFunction('convertToInteractive',\n",
              "                                                     [key], {});\n",
              "          if (!dataTable) return;\n",
              "\n",
              "          const docLinkHtml = 'Like what you see? Visit the ' +\n",
              "            '<a target=\"_blank\" href=https://colab.research.google.com/notebooks/data_table.ipynb>data table notebook</a>'\n",
              "            + ' to learn more about interactive tables.';\n",
              "          element.innerHTML = '';\n",
              "          dataTable['output_type'] = 'display_data';\n",
              "          await google.colab.output.renderOutput(dataTable, element);\n",
              "          const docLink = document.createElement('div');\n",
              "          docLink.innerHTML = docLinkHtml;\n",
              "          element.appendChild(docLink);\n",
              "        }\n",
              "      </script>\n",
              "    </div>\n",
              "  </div>\n",
              "  "
            ]
          },
          "metadata": {},
          "execution_count": 36
        }
      ]
    },
    {
      "cell_type": "code",
      "source": [
        "# remove unwanted text and characters\n",
        "df['reviewText'] = df['reviewText'].apply(lambda x: re.sub('[^a-zA-Z0-9\\s]', '', x))\n"
      ],
      "metadata": {
        "id": "oDlqli5cKa1g"
      },
      "execution_count": 6,
      "outputs": []
    },
    {
      "cell_type": "code",
      "source": [
        "def remove_urls(text_series):\n",
        "    url_pattern = re.compile(r'https?://\\S+|www\\.\\S+')\n",
        "    return text_series.apply(lambda x: url_pattern.sub(r'', x))"
      ],
      "metadata": {
        "id": "05Yqnwm3z_m8"
      },
      "execution_count": 9,
      "outputs": []
    },
    {
      "cell_type": "code",
      "source": [
        "text = df['reviewText']\n",
        "remove_urls(text)"
      ],
      "metadata": {
        "colab": {
          "base_uri": "https://localhost:8080/"
        },
        "id": "gdDQehKW0DEX",
        "outputId": "64b17b69-5ea2-4c75-c659-974f7e3f253a"
      },
      "execution_count": 12,
      "outputs": [
        {
          "output_type": "execute_result",
          "data": {
            "text/plain": [
              "0        This book was the very first bookmobile book I...\n",
              "1        When I read the description for this book I co...\n",
              "2        I just had to edit this review This book is an...\n",
              "3        I dont normally buy mystery novels because I j...\n",
              "4        This isnt the kind of book I normally read alt...\n",
              "                               ...                        \n",
              "11994    After E A Poe came H P Lovecraft in the world ...\n",
              "11995    Had to read certain passages twicetypos  Wish ...\n",
              "11997    Dragon Knights is a world where Knights ride d...\n",
              "11998    Since this story is very short its hard to say...\n",
              "11999    from 1922 an amazing collection of info on sym...\n",
              "Name: reviewText, Length: 10000, dtype: object"
            ]
          },
          "metadata": {},
          "execution_count": 12
        }
      ]
    },
    {
      "cell_type": "code",
      "source": [
        "# normalize text data\n",
        "df['reviewText'] = df['reviewText'].apply(lambda x: x.lower())"
      ],
      "metadata": {
        "id": "CGwoE47DKd5e"
      },
      "execution_count": 14,
      "outputs": []
    },
    {
      "cell_type": "markdown",
      "source": [
        "# Build Model[5]:"
      ],
      "metadata": {
        "id": "4WT5CsihQqN6"
      }
    },
    {
      "cell_type": "code",
      "source": [
        "\n",
        "# split the dataset into training and testing sets\n",
        "X_train, X_test, y_train, y_test = train_test_split(df['reviewText'], df['sentiment'], test_size=0.2, random_state=42)\n"
      ],
      "metadata": {
        "id": "49MdOVANLy6o"
      },
      "execution_count": 37,
      "outputs": []
    },
    {
      "cell_type": "code",
      "source": [
        "# tokenize and pad the sequences\n",
        "tokenizer = Tokenizer(num_words=5000, oov_token='UNK')\n",
        "tokenizer.fit_on_texts(X_train)\n",
        "X_train_seq = tokenizer.texts_to_sequences(X_train)\n",
        "X_test_seq = tokenizer.texts_to_sequences(X_test)\n",
        "X_train_padded = pad_sequences(X_train_seq, maxlen=200)\n",
        "X_test_padded = pad_sequences(X_test_seq, maxlen=200)"
      ],
      "metadata": {
        "id": "uvx7mWNFKgN0"
      },
      "execution_count": 39,
      "outputs": []
    },
    {
      "cell_type": "code",
      "source": [
        "# print the shape of the cleaned and preprocessed dataset\n",
        "print(X_train_padded.shape)\n",
        "print(X_test_padded.shape)"
      ],
      "metadata": {
        "colab": {
          "base_uri": "https://localhost:8080/"
        },
        "id": "mBW3qHotKs9R",
        "outputId": "d71a297f-4d64-4e01-ec1c-3f2ccb423b74"
      },
      "execution_count": 17,
      "outputs": [
        {
          "output_type": "stream",
          "name": "stdout",
          "text": [
            "(8000, 200)\n",
            "(2000, 200)\n"
          ]
        }
      ]
    },
    {
      "cell_type": "code",
      "source": [
        "# define the model architecture\n",
        "model = Sequential()\n",
        "model.add(Embedding(input_dim=5000, output_dim=32, input_length=200))\n",
        "model.add(LSTM(units=64, dropout=0.2, recurrent_dropout=0.2))\n",
        "model.add(Dense(units=1, activation='sigmoid'))\n",
        "\n",
        "# compile the model\n",
        "model.compile(loss='binary_crossentropy', optimizer='adam', metrics=['accuracy'])\n",
        "\n",
        "# print the model summary\n",
        "print(model.summary())"
      ],
      "metadata": {
        "colab": {
          "base_uri": "https://localhost:8080/"
        },
        "id": "1WknsD1AKvnO",
        "outputId": "4c474412-efab-4e00-affa-1f19cd393556"
      },
      "execution_count": 18,
      "outputs": [
        {
          "output_type": "stream",
          "name": "stdout",
          "text": [
            "Model: \"sequential\"\n",
            "_________________________________________________________________\n",
            " Layer (type)                Output Shape              Param #   \n",
            "=================================================================\n",
            " embedding (Embedding)       (None, 200, 32)           160000    \n",
            "                                                                 \n",
            " lstm (LSTM)                 (None, 64)                24832     \n",
            "                                                                 \n",
            " dense (Dense)               (None, 1)                 65        \n",
            "                                                                 \n",
            "=================================================================\n",
            "Total params: 184,897\n",
            "Trainable params: 184,897\n",
            "Non-trainable params: 0\n",
            "_________________________________________________________________\n",
            "None\n"
          ]
        }
      ]
    },
    {
      "cell_type": "markdown",
      "source": [
        "# Training of the Model[5]:"
      ],
      "metadata": {
        "id": "RifJyqJqQzRs"
      }
    },
    {
      "cell_type": "code",
      "source": [
        "class Mycallback(tf.keras.callbacks.Callback):\n",
        "  def on_epoch_end(self, epoch, logs={}):\n",
        "    if(logs.get(\"accuracy\")>0.95):\n",
        "      print('\\nLoss is low so stop training')\n",
        "      self.model.stop_training =True"
      ],
      "metadata": {
        "id": "Rxz19vvOV6Q_"
      },
      "execution_count": 19,
      "outputs": []
    },
    {
      "cell_type": "code",
      "source": [
        "callbacks=Mycallback()"
      ],
      "metadata": {
        "id": "Q_zDSmMeV9co"
      },
      "execution_count": 20,
      "outputs": []
    },
    {
      "cell_type": "code",
      "source": [
        "# train the model\n",
        "history = model.fit(X_train_padded, y_train, epochs=10, batch_size=128, validation_data=(X_test_padded, y_test), callbacks=[callbacks])\n",
        "\n",
        "# plot the training and validation loss\n",
        "plt.plot(history.history['loss'], label='Training Loss')\n",
        "plt.plot(history.history['val_loss'], label='Validation Loss')\n",
        "plt.legend()\n",
        "plt.show()"
      ],
      "metadata": {
        "colab": {
          "base_uri": "https://localhost:8080/",
          "height": 673
        },
        "id": "e0x0K-sZK_Hp",
        "outputId": "be083445-831e-4464-90bc-334448f9c9b5"
      },
      "execution_count": 21,
      "outputs": [
        {
          "output_type": "stream",
          "name": "stdout",
          "text": [
            "Epoch 1/10\n",
            "63/63 [==============================] - 38s 533ms/step - loss: 0.6379 - accuracy: 0.6404 - val_loss: 0.5650 - val_accuracy: 0.7715\n",
            "Epoch 2/10\n",
            "63/63 [==============================] - 31s 496ms/step - loss: 0.4452 - accuracy: 0.8240 - val_loss: 0.3490 - val_accuracy: 0.8650\n",
            "Epoch 3/10\n",
            "63/63 [==============================] - 31s 498ms/step - loss: 0.2789 - accuracy: 0.8880 - val_loss: 0.2982 - val_accuracy: 0.8800\n",
            "Epoch 4/10\n",
            "63/63 [==============================] - 31s 498ms/step - loss: 0.2021 - accuracy: 0.9247 - val_loss: 0.2598 - val_accuracy: 0.8965\n",
            "Epoch 5/10\n",
            "63/63 [==============================] - 33s 532ms/step - loss: 0.1586 - accuracy: 0.9424 - val_loss: 0.2767 - val_accuracy: 0.9010\n",
            "Epoch 6/10\n",
            "63/63 [==============================] - ETA: 0s - loss: 0.1277 - accuracy: 0.9570\n",
            "Loss is low so stop training\n",
            "63/63 [==============================] - 31s 500ms/step - loss: 0.1277 - accuracy: 0.9570 - val_loss: 0.2720 - val_accuracy: 0.9000\n"
          ]
        },
        {
          "output_type": "display_data",
          "data": {
            "text/plain": [
              "<Figure size 640x480 with 1 Axes>"
            ],
            "image/png": "[encoded data removed]"
          },
          "metadata": {}
        }
      ]
    },
    {
      "cell_type": "markdown",
      "source": [
        "# Evaluate the model[2.5]:"
      ],
      "metadata": {
        "id": "nHdKODkxQ5ri"
      }
    },
    {
      "cell_type": "code",
      "source": [
        "# evaluate the model\n",
        "loss, accuracy = model.evaluate(X_test_padded, y_test, verbose=0)\n",
        "print('Test Loss:', loss)\n",
        "print('Test Accuracy:', accuracy)"
      ],
      "metadata": {
        "colab": {
          "base_uri": "https://localhost:8080/"
        },
        "id": "5ak3nlVwNk81",
        "outputId": "9c042ae4-9dac-449a-d1b3-2c8d8a813222"
      },
      "execution_count": 22,
      "outputs": [
        {
          "output_type": "stream",
          "name": "stdout",
          "text": [
            "Test Loss: 0.27198123931884766\n",
            "Test Accuracy: 0.8999999761581421\n"
          ]
        }
      ]
    },
    {
      "cell_type": "code",
      "source": [
        "# get the predicted labels\n",
        "y_pred = model.predict(X_test_padded)\n",
        "y_pred = [round(pred[0]) for pred in y_pred]\n",
        "\n",
        "# create the confusion matrix\n",
        "cm = confusion_matrix(y_test, y_pred)\n",
        "\n",
        "# print the confusion matrix\n",
        "print(cm)"
      ],
      "metadata": {
        "colab": {
          "base_uri": "https://localhost:8080/"
        },
        "id": "TALxZnfJ_B_9",
        "outputId": "672ce72f-4571-4b3e-840e-6192267cc78f"
      },
      "execution_count": 26,
      "outputs": [
        {
          "output_type": "stream",
          "name": "stdout",
          "text": [
            "63/63 [==============================] - 5s 80ms/step\n",
            "[[ 705  124]\n",
            " [  76 1095]]\n"
          ]
        }
      ]
    },
    {
      "cell_type": "code",
      "source": [
        "# get the predicted probabilities\n",
        "y_prob = model.predict(X_test_padded)\n",
        "\n",
        "# get the predicted labels\n",
        "y_pred = [round(prob[0]) for prob in y_prob]\n",
        "\n",
        "# calculate the F1 score\n",
        "f1 = f1_score(y_test, y_pred)\n",
        "\n",
        "# print the F1 score\n",
        "print('F1 score:', f1)"
      ],
      "metadata": {
        "colab": {
          "base_uri": "https://localhost:8080/"
        },
        "id": "brlvmQop_UdJ",
        "outputId": "b1e94811-77c4-4260-e841-8cc2ea44655d"
      },
      "execution_count": 28,
      "outputs": [
        {
          "output_type": "stream",
          "name": "stdout",
          "text": [
            "63/63 [==============================] - 2s 34ms/step\n",
            "F1 score: 0.9163179916317991\n"
          ]
        }
      ]
    },
    {
      "cell_type": "code",
      "source": [
        "# calculate the ROC curve\n",
        "fpr, tpr, thresholds = roc_curve(y_test, y_prob)\n",
        "\n",
        "# calculate the AUC score\n",
        "auc_score = auc(fpr, tpr)\n",
        "\n",
        "# plot the ROC curve\n",
        "plt.plot(fpr, tpr, label='ROC curve (AUC = %0.2f)' % auc_score)\n",
        "plt.plot([0, 1], [0, 1], linestyle='--', label='Random guess')\n",
        "plt.xlabel('False Positive Rate')\n",
        "plt.ylabel('True Positive Rate')\n",
        "plt.legend()\n",
        "plt.show()"
      ],
      "metadata": {
        "colab": {
          "base_uri": "https://localhost:8080/",
          "height": 449
        },
        "id": "f9JXumQP_hCq",
        "outputId": "0f309fd5-905f-41a7-d6c6-bdf190def906"
      },
      "execution_count": 29,
      "outputs": [
        {
          "output_type": "display_data",
          "data": {
            "text/plain": [
              "<Figure size 640x480 with 1 Axes>"
            ],
            "image/png": "[encoded data removed]"
          },
          "metadata": {}
        }
      ]
    },
    {
      "cell_type": "markdown",
      "source": [
        "# Results and Prediction[2.5]:"
      ],
      "metadata": {
        "id": "Sww4sc8KQ9sS"
      }
    },
    {
      "cell_type": "code",
      "source": [
        "# make predictions on the test set\n",
        "y_pred = model.predict(X_test_padded)\n",
        "y_pred = [round(pred[0]) for pred in y_pred]\n",
        "\n",
        "# print the first 10 true and predicted labels\n",
        "print('True labels:', list(y_test)[:10])\n",
        "print('Predicted labels:', y_pred[:10])\n"
      ],
      "metadata": {
        "colab": {
          "base_uri": "https://localhost:8080/"
        },
        "id": "5o8KpqduQaIL",
        "outputId": "e6cb0ae6-3763-4ae0-f128-0ce06d3fdeb1"
      },
      "execution_count": 23,
      "outputs": [
        {
          "output_type": "stream",
          "name": "stdout",
          "text": [
            "63/63 [==============================] - 2s 35ms/step\n",
            "True labels: [1, 1, 1, 0, 1, 0, 0, 0, 1, 1]\n",
            "Predicted labels: [1, 1, 1, 0, 1, 0, 1, 0, 1, 0]\n"
          ]
        }
      ]
    },
    {
      "cell_type": "code",
      "source": [
        "neg_review = [\"I bought this set and returned it.  I couldn't force myself to finish the first book, A Touch of Silk.  ( They are bundled out of order, too).  The writing and phrasing was so immature that I thought at first it was a satire!  But the pages and pages of supposedly erotic fantasy stuffing the book to bring up the word count was the final blow.  No character development, not enough background.  What should have been interesting read like a pre- teen fantasy.  Don't waste your money.\"]"
      ],
      "metadata": {
        "id": "ckmBD_COPOaj"
      },
      "execution_count": 40,
      "outputs": []
    },
    {
      "cell_type": "code",
      "source": [
        "# Let's tokenize it and do the pad_sequence to make it in right format acceptable by model\n",
        "neg_review_token = tokenizer.texts_to_sequences(neg_review)\n",
        "\n",
        "# padding\n",
        "neg_review_padded = pad_sequences(neg_review_token,maxlen=100,padding='post')"
      ],
      "metadata": {
        "id": "9v5VqZAJPTEn"
      },
      "execution_count": 41,
      "outputs": []
    },
    {
      "cell_type": "code",
      "source": [
        "review_predict = (model.predict(neg_review_padded)>0.5).astype('int32')"
      ],
      "metadata": {
        "colab": {
          "base_uri": "https://localhost:8080/"
        },
        "id": "tQSPKB0APXXS",
        "outputId": "fd7b3145-77ae-43f9-b981-3adaa71265e6"
      },
      "execution_count": 42,
      "outputs": [
        {
          "output_type": "stream",
          "name": "stdout",
          "text": [
            "1/1 [==============================] - 1s 613ms/step\n"
          ]
        }
      ]
    },
    {
      "cell_type": "code",
      "source": [
        "# 1 is Positive review and 0 is negative review\n",
        "if review_predict[0] == 0:\n",
        "    print(\"It's a negative review\")\n",
        "else:\n",
        "    print(\"It's a positive review\")"
      ],
      "metadata": {
        "colab": {
          "base_uri": "https://localhost:8080/"
        },
        "id": "avSxEa2SPZge",
        "outputId": "c7870012-7037-49b6-8b31-dbdd75878def"
      },
      "execution_count": 43,
      "outputs": [
        {
          "output_type": "stream",
          "name": "stdout",
          "text": [
            "It's a negative review\n"
          ]
        }
      ]
    },
    {
      "cell_type": "code",
      "source": [
        "pos_review = [\"This book was the very first bookmobile book I bought when I was in the school book club. I loved the story then and I bet a dollar to a donut I will love it again. If my memory serves, I bought this book in 5th grade. That would have been about 1961. I am looking forward to reliving the memories.\"]"
      ],
      "metadata": {
        "id": "pC_F1IZKP2NA"
      },
      "execution_count": 44,
      "outputs": []
    },
    {
      "cell_type": "code",
      "source": [
        "# Tokenization\n",
        "pos_review = tokenizer.texts_to_sequences(pos_review)\n",
        "\n",
        "# padding\n",
        "pos_review = pad_sequences(pos_review,maxlen=100,padding='post')\n",
        "\n",
        "# prediction\n",
        "review_predict = (model.predict(pos_review)>0.5).astype('int')\n",
        "\n",
        "if review_predict[0] == 0:\n",
        "    print(\"It's a negative review\")\n",
        "else:\n",
        "    print(\"It's a positive review\")"
      ],
      "metadata": {
        "colab": {
          "base_uri": "https://localhost:8080/"
        },
        "id": "_dtp58uLP8tL",
        "outputId": "b1136d7f-7c97-4ad3-95d4-5bfe11687409"
      },
      "execution_count": 45,
      "outputs": [
        {
          "output_type": "stream",
          "name": "stdout",
          "text": [
            "1/1 [==============================] - 0s 53ms/step\n",
            "It's a positive review\n"
          ]
        }
      ]
    }
  ]
}